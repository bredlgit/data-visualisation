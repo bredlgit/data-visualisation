{
 "cells": [
  {
   "cell_type": "markdown",
   "metadata": {},
   "source": [
    "![TEW, Numpy, Pandas & Matplotlib](assets/tew.png)"
   ]
  },
  {
   "cell_type": "markdown",
   "metadata": {},
   "source": [
    "## 38 Geographic Choropleth Maps in Python Using Plotly & Pandas \n",
    "\n",
    "In this tutorial on python for data science, you will learn about how to create geographic maps in python. We will be creating choropleth maps using plotly in python using jupyter notebook.\n",
    "\n",
    "Plotly maps are...\n",
    "- Interactive - Still not usre what this means\n",
    "- Web friendly\n",
    "- Easily shareable\n",
    "\n",
    "Two main object types in Plotly mapping...\n",
    "- Data object - A list object that cantains a dictionary specifying each of the parameters for the map's data\n",
    "- Layout object - A nested dictionary object that specifies each of the parameters for the map's layout\n",
    "\n",
    "Two main types of maps...\n",
    "- **Choropleth map** - A geographical map where spatial areas are coloured in hues that represent the quantity of a given attribute in the specific geographic region\n",
    "    - Requirements...\n",
    "        - Use the \"code\" parameter to select geographical area by name (like \"US States\")\n",
    "        - Data Parameter : type = 'choropleth'\n",
    "- **Points map** - Are geographic maps with dots placed at specific spatial locations that represent data points. Sot size, colour or shape can be varied to add a layer of comparative detail when you look at the map\n",
    "    - Requirements...\n",
    "        - Precise x,y position data for each observation \n",
    "        - A \"marker\" parameter (instead of a z parameter)\n",
    "        - Data parameter: type = 'Scattergeo'"
   ]
  },
  {
   "cell_type": "code",
   "execution_count": 1,
   "metadata": {},
   "outputs": [],
   "source": [
    "#As always, we first set up our JN with our imports and settings...\n",
    "import numpy as np\n",
    "import pandas as pd\n",
    "\n",
    "import plotly.plotly as py\n",
    "import plotly.tools as tls\n",
    "import plotly.graph_objs as go"
   ]
  },
  {
   "cell_type": "markdown",
   "metadata": {},
   "source": [
    "To actually use ploty, you need to pass in your username and API key from the plotly website..."
   ]
  },
  {
   "cell_type": "code",
   "execution_count": 2,
   "metadata": {},
   "outputs": [],
   "source": [
    "#First we need to call the ``set_credential`` function from the toolkit#\n",
    "tls.set_credentials_file(username = 'bredlplotly', api_key = '4jBdfwVO9M6TzpBaTgSb')"
   ]
  },
  {
   "cell_type": "code",
   "execution_count": 3,
   "metadata": {},
   "outputs": [
    {
     "data": {
      "text/html": [
       "<div>\n",
       "<style scoped>\n",
       "    .dataframe tbody tr th:only-of-type {\n",
       "        vertical-align: middle;\n",
       "    }\n",
       "\n",
       "    .dataframe tbody tr th {\n",
       "        vertical-align: top;\n",
       "    }\n",
       "\n",
       "    .dataframe thead th {\n",
       "        text-align: right;\n",
       "    }\n",
       "</style>\n",
       "<table border=\"1\" class=\"dataframe\">\n",
       "  <thead>\n",
       "    <tr style=\"text-align: right;\">\n",
       "      <th></th>\n",
       "      <th>code</th>\n",
       "      <th>region</th>\n",
       "      <th>pop</th>\n",
       "      <th>SATV</th>\n",
       "      <th>SATM</th>\n",
       "      <th>percent</th>\n",
       "      <th>dollars</th>\n",
       "      <th>pay</th>\n",
       "    </tr>\n",
       "  </thead>\n",
       "  <tbody>\n",
       "    <tr>\n",
       "      <th>0</th>\n",
       "      <td>AL</td>\n",
       "      <td>ESC</td>\n",
       "      <td>4041</td>\n",
       "      <td>470</td>\n",
       "      <td>514</td>\n",
       "      <td>8</td>\n",
       "      <td>3.648</td>\n",
       "      <td>27</td>\n",
       "    </tr>\n",
       "    <tr>\n",
       "      <th>1</th>\n",
       "      <td>AK</td>\n",
       "      <td>PAC</td>\n",
       "      <td>550</td>\n",
       "      <td>438</td>\n",
       "      <td>476</td>\n",
       "      <td>42</td>\n",
       "      <td>7.887</td>\n",
       "      <td>43</td>\n",
       "    </tr>\n",
       "    <tr>\n",
       "      <th>2</th>\n",
       "      <td>AZ</td>\n",
       "      <td>MTN</td>\n",
       "      <td>3665</td>\n",
       "      <td>445</td>\n",
       "      <td>497</td>\n",
       "      <td>25</td>\n",
       "      <td>4.231</td>\n",
       "      <td>30</td>\n",
       "    </tr>\n",
       "    <tr>\n",
       "      <th>3</th>\n",
       "      <td>AR</td>\n",
       "      <td>WSC</td>\n",
       "      <td>2351</td>\n",
       "      <td>470</td>\n",
       "      <td>511</td>\n",
       "      <td>6</td>\n",
       "      <td>3.334</td>\n",
       "      <td>23</td>\n",
       "    </tr>\n",
       "    <tr>\n",
       "      <th>4</th>\n",
       "      <td>CA</td>\n",
       "      <td>PAC</td>\n",
       "      <td>29760</td>\n",
       "      <td>419</td>\n",
       "      <td>484</td>\n",
       "      <td>45</td>\n",
       "      <td>4.826</td>\n",
       "      <td>39</td>\n",
       "    </tr>\n",
       "  </tbody>\n",
       "</table>\n",
       "</div>"
      ],
      "text/plain": [
       "  code region    pop  SATV  SATM  percent  dollars  pay\n",
       "0   AL    ESC   4041   470   514        8    3.648   27\n",
       "1   AK    PAC    550   438   476       42    7.887   43\n",
       "2   AZ    MTN   3665   445   497       25    4.231   30\n",
       "3   AR    WSC   2351   470   511        6    3.334   23\n",
       "4   CA    PAC  29760   419   484       45    4.826   39"
      ]
     },
     "execution_count": 3,
     "metadata": {},
     "output_type": "execute_result"
    }
   ],
   "source": [
    "#Importing our plotting data...\n",
    "address = 'datasets/states.csv'\n",
    "states = pd.read_csv(address, sep = '\\t')\n",
    "states.columns = ['code', 'region', 'pop', 'SATV', 'SATM', 'percent', 'dollars', 'pay']\n",
    "states.head()"
   ]
  },
  {
   "cell_type": "markdown",
   "metadata": {},
   "source": [
    "**NOTE:** Even tho we are creating a map here there is no requirement for lattitude and longitude values...but we will need them for the points map (see below)\n",
    "\n",
    "## Generating choropleth maps\n",
    "We're gonna attach a new column to the df called text. This will allow us to see details about the state, from the df, as we hover over them with the mouse..."
   ]
  },
  {
   "cell_type": "code",
   "execution_count": 4,
   "metadata": {},
   "outputs": [
    {
     "data": {
      "text/plain": [
       "[{'type': 'choropleth', 'autocolorscale': False, 'locations': 0     AL\n",
       "  1     AK\n",
       "  2     AZ\n",
       "  3     AR\n",
       "  4     CA\n",
       "  5     CO\n",
       "  6     CN\n",
       "  7     DE\n",
       "  8     DC\n",
       "  9     FL\n",
       "  10    GA\n",
       "  11    HI\n",
       "  12    ID\n",
       "  13    IL\n",
       "  14    IN\n",
       "  15    IA\n",
       "  16    KS\n",
       "  17    KY\n",
       "  18    LA\n",
       "  19    ME\n",
       "  20    MD\n",
       "  21    MA\n",
       "  22    MI\n",
       "  23    MN\n",
       "  24    MS\n",
       "  25    MO\n",
       "  26    MT\n",
       "  27    NE\n",
       "  28    NV\n",
       "  29    NH\n",
       "  30    NJ\n",
       "  31    NM\n",
       "  32    NY\n",
       "  33    NC\n",
       "  34    ND\n",
       "  35    OH\n",
       "  36    OK\n",
       "  37    OR\n",
       "  38    PA\n",
       "  39    RI\n",
       "  40    SC\n",
       "  41    SD\n",
       "  42    TN\n",
       "  43    TX\n",
       "  44    UT\n",
       "  45    VT\n",
       "  46    VA\n",
       "  47    WA\n",
       "  48    WV\n",
       "  49    WI\n",
       "  50    WY\n",
       "  Name: code, dtype: object, 'z': 0     3.648\n",
       "  1     7.887\n",
       "  2     4.231\n",
       "  3     3.334\n",
       "  4     4.826\n",
       "  5     4.809\n",
       "  6     7.914\n",
       "  7     6.016\n",
       "  8     8.210\n",
       "  9     5.154\n",
       "  10    4.860\n",
       "  11    5.008\n",
       "  12    3.200\n",
       "  13    5.062\n",
       "  14    5.051\n",
       "  15    4.839\n",
       "  16    5.009\n",
       "  17    4.390\n",
       "  18    4.012\n",
       "  19    5.894\n",
       "  20    6.184\n",
       "  21    6.351\n",
       "  22    5.257\n",
       "  23    5.260\n",
       "  24    3.322\n",
       "  25    4.415\n",
       "  26    5.184\n",
       "  27    4.381\n",
       "  28    4.564\n",
       "  29    5.504\n",
       "  30    9.159\n",
       "  31    4.446\n",
       "  32    8.500\n",
       "  33    4.802\n",
       "  34    3.685\n",
       "  35    5.639\n",
       "  36    3.742\n",
       "  37    5.291\n",
       "  38    6.534\n",
       "  39    6.989\n",
       "  40    4.327\n",
       "  41    3.730\n",
       "  42    3.707\n",
       "  43    4.238\n",
       "  44    2.993\n",
       "  45    5.740\n",
       "  46    5.360\n",
       "  47    5.045\n",
       "  48    5.046\n",
       "  49    5.946\n",
       "  50    5.255\n",
       "  Name: dollars, dtype: float64, 'locationmode': 'USA-states', 'text': 0     SATv 470 SATm 514<br>State AL\n",
       "  1     SATv 438 SATm 476<br>State AK\n",
       "  2     SATv 445 SATm 497<br>State AZ\n",
       "  3     SATv 470 SATm 511<br>State AR\n",
       "  4     SATv 419 SATm 484<br>State CA\n",
       "  5     SATv 456 SATm 513<br>State CO\n",
       "  6     SATv 430 SATm 471<br>State CN\n",
       "  7     SATv 433 SATm 470<br>State DE\n",
       "  8     SATv 409 SATm 441<br>State DC\n",
       "  9     SATv 418 SATm 466<br>State FL\n",
       "  10    SATv 401 SATm 443<br>State GA\n",
       "  11    SATv 404 SATm 481<br>State HI\n",
       "  12    SATv 466 SATm 502<br>State ID\n",
       "  13    SATv 466 SATm 528<br>State IL\n",
       "  14    SATv 408 SATm 459<br>State IN\n",
       "  15    SATv 511 SATm 577<br>State IA\n",
       "  16    SATv 492 SATm 548<br>State KS\n",
       "  17    SATv 473 SATm 521<br>State KY\n",
       "  18    SATv 476 SATm 517<br>State LA\n",
       "  19    SATv 423 SATm 463<br>State ME\n",
       "  20    SATv 430 SATm 478<br>State MD\n",
       "  21    SATv 427 SATm 473<br>State MA\n",
       "  22    SATv 454 SATm 514<br>State MI\n",
       "  23    SATv 477 SATm 542<br>State MN\n",
       "  24    SATv 477 SATm 519<br>State MS\n",
       "  25    SATv 473 SATm 522<br>State MO\n",
       "  26    SATv 464 SATm 523<br>State MT\n",
       "  27    SATv 484 SATm 546<br>State NE\n",
       "  28    SATv 434 SATm 487<br>State NV\n",
       "  29    SATv 442 SATm 486<br>State NH\n",
       "  30    SATv 418 SATm 473<br>State NJ\n",
       "  31    SATv 480 SATm 527<br>State NM\n",
       "  32    SATv 412 SATm 470<br>State NY\n",
       "  33    SATv 401 SATm 440<br>State NC\n",
       "  34    SATv 505 SATm 564<br>State ND\n",
       "  35    SATv 450 SATm 499<br>State OH\n",
       "  36    SATv 478 SATm 523<br>State OK\n",
       "  37    SATv 439 SATm 484<br>State OR\n",
       "  38    SATv 420 SATm 463<br>State PA\n",
       "  39    SATv 422 SATm 461<br>State RI\n",
       "  40    SATv 397 SATm 437<br>State SC\n",
       "  41    SATv 506 SATm 555<br>State SD\n",
       "  42    SATv 483 SATm 525<br>State TN\n",
       "  43    SATv 413 SATm 461<br>State TX\n",
       "  44    SATv 492 SATm 539<br>State UT\n",
       "  45    SATv 431 SATm 466<br>State VT\n",
       "  46    SATv 425 SATm 470<br>State VA\n",
       "  47    SATv 437 SATm 486<br>State WA\n",
       "  48    SATv 443 SATm 490<br>State WV\n",
       "  49    SATv 476 SATm 543<br>State WI\n",
       "  50    SATv 458 SATm 519<br>State WY\n",
       "  Name: text, dtype: object, 'colorscale': 'custom-colorscale', 'colorbar': {'title': 'Thousand Dollars'}}]"
      ]
     },
     "execution_count": 4,
     "metadata": {},
     "output_type": "execute_result"
    }
   ],
   "source": [
    "states['text'] = 'SATv '+states['SATV'].astype(str) + ' ' + 'SATm ' + states['SATM'].astype(str) + '<br>' + \\\n",
    "'State ' + states['code']\n",
    "\n",
    "data = [dict(type = 'choropleth', autocolorscale = False, locations = states['code'], z = states['dollars'], \n",
    "             locationmode = 'USA-states', text = states['text'], colorscale = 'custom-colorscale', \n",
    "             colorbar = dict(title = 'Thousand Dollars'))]\n",
    "data # This is all the data that we are going to plot out"
   ]
  },
  {
   "cell_type": "markdown",
   "metadata": {},
   "source": [
    "``states['text']`` - Creating a new column that will hold the information about the state that will be visible when we hover over that state<br>\n",
    "``SATv`` - Label for the SATV information that wqill be displayed<br>\n",
    "``states['SATV']`` - The column that will be used to provide the above information<br>\n",
    "``astype.(str)`` - We are going to display this information as a string rather than anything else<br>\n",
    "***\n",
    "``type = 'chorpleth'`` - This is how we specify that we want to generate a choropleth map<br>\n",
    "``autocolorscale = False`` - Allows us to be able to define our own colour scale<br>\n",
    "``locations = states['code']`` - We specify the states'(df) code column because this is where the states abbreviations are<br>\n",
    "``z = states['dollars']`` - This is the value that is represented by the colour bar in the map<br>\n",
    "``locationmode = 'USA-states'`` - This tells plotly to generate a USA map and not some other geographic location<br>\n",
    "``text = states['text']`` - This is the text that is displayed when you hover over a state that we generated in the new column to the df<br>\n",
    "``colorscale = 'custom-colorscale'`` - This is the colour scale that we are going to use for the map colour bar"
   ]
  },
  {
   "cell_type": "code",
   "execution_count": 5,
   "metadata": {},
   "outputs": [
    {
     "data": {
      "text/plain": [
       "{'title': 'State Spending on Public Education ($k/Student)',\n",
       " 'geo': {'scope': 'usa',\n",
       "  'projection': {'type': 'albers usa'},\n",
       "  'showlakes': True,\n",
       "  'lakecolor': 'rgb(65,165,245)'}}"
      ]
     },
     "execution_count": 5,
     "metadata": {},
     "output_type": "execute_result"
    }
   ],
   "source": [
    "# The layout object (nested dictionary)\n",
    "layout = dict(title = 'State Spending on Public Education ($k/Student)', geo = dict(scope = 'usa', \n",
    "              projection = dict(type = 'albers usa'), showlakes = True, lakecolor = 'rgb(65,165,245)',),)\n",
    "layout # To see what information our layout object has"
   ]
  },
  {
   "cell_type": "code",
   "execution_count": 6,
   "metadata": {},
   "outputs": [
    {
     "data": {
      "text/html": [
       "<iframe id=\"igraph\" scrolling=\"no\" style=\"border:none;\" seamless=\"seamless\" src=\"https://plot.ly/~bredlplotly/24.embed\" height=\"525px\" width=\"100%\"></iframe>"
      ],
      "text/plain": [
       "<plotly.tools.PlotlyDisplay object>"
      ]
     },
     "execution_count": 6,
     "metadata": {},
     "output_type": "execute_result"
    }
   ],
   "source": [
    "#New dict that contains both the data and layout objects\n",
    "fig = dict(data = data, layout = layout)\n",
    "py.iplot(fig, filename = 'First-Choropleth-Map')"
   ]
  },
  {
   "cell_type": "markdown",
   "metadata": {},
   "source": [
    "## Generating Points Maps\n",
    "Generating points maps is very similar to generating choropleth maps but some of the parameters are different. So, in an effort to keep things brief, we are only going to go over the things that are different.\n",
    "As we said above, for points maps you need precise x,y position data for each observation. A list of state abbreviations won't work, so we need a new dataset..."
   ]
  },
  {
   "cell_type": "code",
   "execution_count": 7,
   "metadata": {},
   "outputs": [
    {
     "data": {
      "text/html": [
       "<div>\n",
       "<style scoped>\n",
       "    .dataframe tbody tr th:only-of-type {\n",
       "        vertical-align: middle;\n",
       "    }\n",
       "\n",
       "    .dataframe tbody tr th {\n",
       "        vertical-align: top;\n",
       "    }\n",
       "\n",
       "    .dataframe thead th {\n",
       "        text-align: right;\n",
       "    }\n",
       "</style>\n",
       "<table border=\"1\" class=\"dataframe\">\n",
       "  <thead>\n",
       "    <tr style=\"text-align: right;\">\n",
       "      <th></th>\n",
       "      <th>stn_id</th>\n",
       "      <th>lat</th>\n",
       "      <th>long</th>\n",
       "      <th>elev</th>\n",
       "      <th>code</th>\n",
       "    </tr>\n",
       "  </thead>\n",
       "  <tbody>\n",
       "    <tr>\n",
       "      <th>4479</th>\n",
       "      <td>USC00406292</td>\n",
       "      <td>36.4739</td>\n",
       "      <td>-81.8033</td>\n",
       "      <td>736.1</td>\n",
       "      <td>TN</td>\n",
       "    </tr>\n",
       "    <tr>\n",
       "      <th>2678</th>\n",
       "      <td>USC00237398</td>\n",
       "      <td>38.6856</td>\n",
       "      <td>-90.5231</td>\n",
       "      <td>137.2</td>\n",
       "      <td>MO</td>\n",
       "    </tr>\n",
       "    <tr>\n",
       "      <th>2902</th>\n",
       "      <td>USC00252820</td>\n",
       "      <td>40.0739</td>\n",
       "      <td>-97.1669</td>\n",
       "      <td>411.5</td>\n",
       "      <td>NE</td>\n",
       "    </tr>\n",
       "    <tr>\n",
       "      <th>2128</th>\n",
       "      <td>USC00170833</td>\n",
       "      <td>46.4283</td>\n",
       "      <td>-67.8442</td>\n",
       "      <td>128.0</td>\n",
       "      <td>ME</td>\n",
       "    </tr>\n",
       "    <tr>\n",
       "      <th>2138</th>\n",
       "      <td>USC00172878</td>\n",
       "      <td>47.2386</td>\n",
       "      <td>-68.6136</td>\n",
       "      <td>185.9</td>\n",
       "      <td>ME</td>\n",
       "    </tr>\n",
       "  </tbody>\n",
       "</table>\n",
       "</div>"
      ],
      "text/plain": [
       "           stn_id      lat     long   elev code\n",
       "4479  USC00406292  36.4739 -81.8033  736.1   TN\n",
       "2678  USC00237398  38.6856 -90.5231  137.2   MO\n",
       "2902  USC00252820  40.0739 -97.1669  411.5   NE\n",
       "2128  USC00170833  46.4283 -67.8442  128.0   ME\n",
       "2138  USC00172878  47.2386 -68.6136  185.9   ME"
      ]
     },
     "execution_count": 7,
     "metadata": {},
     "output_type": "execute_result"
    }
   ],
   "source": [
    "#Importing our plotting data...\n",
    "address = 'datasets/snow_inventory.csv'\n",
    "# This is a huge dataset from every weather station in the USA \n",
    "snow = pd.read_csv(address, sep = '\\t')\n",
    "snow.columns = ['stn_id', 'lat', 'long', 'elev', 'code']\n",
    "\n",
    "#...because it is so big, we are going to create a random sample of 200 data points and use this for our point map\n",
    "snow_sample = snow.sample(n = 200, random_state = 25, axis = 0)\n",
    "snow_sample.head()"
   ]
  },
  {
   "cell_type": "code",
   "execution_count": 8,
   "metadata": {},
   "outputs": [
    {
     "data": {
      "text/html": [
       "<iframe id=\"igraph\" scrolling=\"no\" style=\"border:none;\" seamless=\"seamless\" src=\"https://plot.ly/~bredlplotly/26.embed\" height=\"525px\" width=\"100%\"></iframe>"
      ],
      "text/plain": [
       "<plotly.tools.PlotlyDisplay object>"
      ]
     },
     "execution_count": 8,
     "metadata": {},
     "output_type": "execute_result"
    }
   ],
   "source": [
    "# First we create our data dictionary for our plot...\n",
    "data = [dict(type = 'scattergeo', locatiomode = 'USA-states', lon = snow_sample['long'], lat = snow_sample['lat'],\n",
    "            marker = dict(size = 12, autocolorscale = False, colorscale = 'custom-color-scale', color = snow_sample['elev'],\n",
    "                    colorbar = dict(title = 'Elevation (m)')))]\n",
    "\n",
    "# Now we create the layout dictionary...\n",
    "layout = dict(title = 'NOAA Weather Station Elevations', colorbar = True, geo = dict(scope = 'usa', \n",
    "                        projection = dict(type = 'albers usa'), showland = True, landcolor = \"rgb(250,250,250)\", \n",
    "                        subunitcolor = \"rgb(217,217,217)\", countrycolor = \"rgb(217,217,217)\", countrywidth = 0.5, \n",
    "                        subunitwidth = 0.5))\n",
    "\n",
    "fig = dict(data = data, layout = layout)\n",
    "py.iplot(fig, validate = False, filename = 'D3-Elevation')"
   ]
  },
  {
   "cell_type": "markdown",
   "metadata": {},
   "source": [
    "``lon = snow_sample['long']`` - This is the longitude setting and is set to the long column in the snow_sample df<br>\n",
    "``lat = snao_sample['lat']`` - Likewise for lattitude"
   ]
  },
  {
   "cell_type": "code",
   "execution_count": null,
   "metadata": {},
   "outputs": [],
   "source": []
  }
 ],
 "metadata": {
  "kernelspec": {
   "display_name": "Python 3",
   "language": "python",
   "name": "python3"
  },
  "language_info": {
   "codemirror_mode": {
    "name": "ipython",
    "version": 3
   },
   "file_extension": ".py",
   "mimetype": "text/x-python",
   "name": "python",
   "nbconvert_exporter": "python",
   "pygments_lexer": "ipython3",
   "version": "3.6.5"
  }
 },
 "nbformat": 4,
 "nbformat_minor": 2
}
