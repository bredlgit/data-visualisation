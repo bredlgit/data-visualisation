{
 "cells": [
  {
   "cell_type": "markdown",
   "metadata": {},
   "source": [
    "![TEW, Plotly, Pandas & Numpy](assets/tewplotlynumpypandas.png)"
   ]
  },
  {
   "cell_type": "markdown",
   "metadata": {},
   "source": [
    "## 37 Plotly Web Based Visualization - Statistical Charts with Plotly, Pandas & Numpy \n",
    "In this Python  for Data Science tutorial, we will learn about how to create statistical Charts Using plotly , pandas and numpy in python using Jupyter Notebook. We will learn how to build...\n",
    "- Histograms \n",
    "    - **Simple Histogram Charts** - From a pandas series object\n",
    "    - **Multiple Histogram Charts** - From a DataFrame object plotted out in ovelapping, transparent, interactive histograms\n",
    "    - **Subplot Histograms** - From a DataFrame object plotted out in a separate, clear, interactive subplots\n",
    "- Box\n",
    "- Scatter Plots \n",
    "    - When generating scatter plots, you always have to set the \"mode\" parameters to \"markers\"\n",
    "    - By default, plotly will draw lines between data points.\n",
    "    - If you want the point with no lines, you need to designate the plot mode as markers"
   ]
  },
  {
   "cell_type": "code",
   "execution_count": 1,
   "metadata": {},
   "outputs": [],
   "source": [
    "# Usual imports into Pandas now...\n",
    "import numpy as np\n",
    "import pandas as pd\n",
    "\n",
    "import cufflinks as cf\n",
    "\n",
    "import plotly.plotly as py\n",
    "import plotly.tools as tls\n",
    "import plotly.graph_objs as go\n",
    "\n",
    "import sklearn\n",
    "from sklearn.preprocessing import StandardScaler"
   ]
  },
  {
   "cell_type": "code",
   "execution_count": 2,
   "metadata": {},
   "outputs": [],
   "source": [
    "# To be able to use plotly, we need to pass in our username and password from our Plotly acct...\n",
    "tls.set_credentials_file(username = 'bredlplotly', api_key = '4jBdfwVO9M6TzpBaTgSb')"
   ]
  },
  {
   "cell_type": "markdown",
   "metadata": {},
   "source": [
    "### Creating histograms\n",
    "#### Making a histogram from a Pandas Series object"
   ]
  },
  {
   "cell_type": "code",
   "execution_count": 3,
   "metadata": {
    "scrolled": false
   },
   "outputs": [
    {
     "data": {
      "text/html": [
       "<iframe id=\"igraph\" scrolling=\"no\" style=\"border:none;\" seamless=\"seamless\" src=\"https://plot.ly/~bredlplotly/42.embed\" height=\"525px\" width=\"100%\"></iframe>"
      ],
      "text/plain": [
       "<plotly.tools.PlotlyDisplay object>"
      ]
     },
     "execution_count": 3,
     "metadata": {},
     "output_type": "execute_result"
    }
   ],
   "source": [
    "# First we will create our df using the mtcars dataset...\n",
    "address = 'datasets/mtcars.csv'\n",
    "cars = pd.read_csv(address, sep = '\\t')\n",
    "\n",
    "# Creating our Series object\n",
    "mpg = cars['mpg']\n",
    "\n",
    "# To generate a histogram of our mpg Series\n",
    "mpg.iplot(kind = 'histogram', filename = \"Simple-Histogram-Chart-02\")"
   ]
  },
  {
   "cell_type": "markdown",
   "metadata": {},
   "source": [
    "#### Making a histogram from a DataFrame"
   ]
  },
  {
   "cell_type": "code",
   "execution_count": 4,
   "metadata": {},
   "outputs": [
    {
     "name": "stderr",
     "output_type": "stream",
     "text": [
      "C:\\Users\\roly\\Anaconda3\\lib\\site-packages\\ipykernel_launcher.py:2: DeprecationWarning:\n",
      "\n",
      "\n",
      ".ix is deprecated. Please use\n",
      ".loc for label based indexing or\n",
      ".iloc for positional indexing\n",
      "\n",
      "See the documentation here:\n",
      "http://pandas.pydata.org/pandas-docs/stable/indexing.html#ix-indexer-is-deprecated\n",
      "\n"
     ]
    },
    {
     "data": {
      "text/html": [
       "<iframe id=\"igraph\" scrolling=\"no\" style=\"border:none;\" seamless=\"seamless\" src=\"https://plot.ly/~bredlplotly/44.embed\" height=\"525px\" width=\"100%\"></iframe>"
      ],
      "text/plain": [
       "<plotly.tools.PlotlyDisplay object>"
      ]
     },
     "execution_count": 4,
     "metadata": {},
     "output_type": "execute_result"
    }
   ],
   "source": [
    "# Creating our df\n",
    "cars_data = cars.ix[:, (1,3,4)].values\n",
    "\n",
    "# ``Standard Scaler`` function is called to scale the data\n",
    "cars_data_std = StandardScaler().fit_transform(cars_data)\n",
    "# The ``fit_transform()`` method carries out the actual transformation\n",
    "\n",
    "# Now we convert this to our df\n",
    "cars_select = pd.DataFrame(cars_data_std)\n",
    "cars_select.columns = ['mpg', 'disp', 'hp']\n",
    "\n",
    "# To plot our histogram...\n",
    "cars_select.iplot(kind = 'histogram', filename = 'Multiple-Histogram-Chart-02')"
   ]
  },
  {
   "cell_type": "markdown",
   "metadata": {},
   "source": [
    "Plotly automatically makes the bars transparaent and then lays them on top of each other but this is still no way to represent data. You really cannot read anything, other than the green plot, very well.\n",
    "\n",
    "#### Plotting these out into separate plots"
   ]
  },
  {
   "cell_type": "code",
   "execution_count": 5,
   "metadata": {},
   "outputs": [
    {
     "data": {
      "text/html": [
       "<iframe id=\"igraph\" scrolling=\"no\" style=\"border:none;\" seamless=\"seamless\" src=\"https://plot.ly/~bredlplotly/46.embed\" height=\"525px\" width=\"100%\"></iframe>"
      ],
      "text/plain": [
       "<plotly.tools.PlotlyDisplay object>"
      ]
     },
     "execution_count": 5,
     "metadata": {},
     "output_type": "execute_result"
    }
   ],
   "source": [
    "cars_select.iplot(kind = 'histogram', subplots = True, filename = 'Multiple-Subplot-Histogram-02')"
   ]
  },
  {
   "cell_type": "code",
   "execution_count": 6,
   "metadata": {},
   "outputs": [
    {
     "data": {
      "text/html": [
       "<iframe id=\"igraph\" scrolling=\"no\" style=\"border:none;\" seamless=\"seamless\" src=\"https://plot.ly/~bredlplotly/44.embed\" height=\"525px\" width=\"100%\"></iframe>"
      ],
      "text/plain": [
       "<plotly.tools.PlotlyDisplay object>"
      ]
     },
     "execution_count": 6,
     "metadata": {},
     "output_type": "execute_result"
    }
   ],
   "source": [
    "# Plot these out in a vertical state - 3 rows and 1 column\n",
    "cars_select.iplot(kind = 'histogram', subplots = True, shape = (3, 1), filename = 'Multiple-Histogram-Chart-02')"
   ]
  },
  {
   "cell_type": "code",
   "execution_count": 7,
   "metadata": {},
   "outputs": [
    {
     "data": {
      "text/html": [
       "<iframe id=\"igraph\" scrolling=\"no\" style=\"border:none;\" seamless=\"seamless\" src=\"https://plot.ly/~bredlplotly/44.embed\" height=\"525px\" width=\"100%\"></iframe>"
      ],
      "text/plain": [
       "<plotly.tools.PlotlyDisplay object>"
      ]
     },
     "execution_count": 7,
     "metadata": {},
     "output_type": "execute_result"
    }
   ],
   "source": [
    "# Plot these out in a vertical state - 1 rows and 3 column\n",
    "cars_select.iplot(kind = 'histogram', subplots = True, shape = (1, 3), filename = 'Multiple-Histogram-Chart-02')"
   ]
  },
  {
   "cell_type": "markdown",
   "metadata": {},
   "source": [
    "## Creating box plots"
   ]
  },
  {
   "cell_type": "code",
   "execution_count": 8,
   "metadata": {},
   "outputs": [
    {
     "data": {
      "text/html": [
       "<iframe id=\"igraph\" scrolling=\"no\" style=\"border:none;\" seamless=\"seamless\" src=\"https://plot.ly/~bredlplotly/48.embed\" height=\"525px\" width=\"100%\"></iframe>"
      ],
      "text/plain": [
       "<plotly.tools.PlotlyDisplay object>"
      ]
     },
     "execution_count": 8,
     "metadata": {},
     "output_type": "execute_result"
    }
   ],
   "source": [
    "cars_select.iplot(kind = 'box', filename = 'Box-Plot-02')"
   ]
  },
  {
   "cell_type": "markdown",
   "metadata": {},
   "source": [
    "## Creating Scatter plots\n",
    "This is definitely a lot more complicated. \n",
    "**NOTE:** - Always remember that we have to set the mode parameters to markers\n",
    "We need a fig object which should be a nested dictionary object and it should contain two dictionaries...\n",
    "- Data \n",
    "    - You should define two sets of x & y variables to be plotted\n",
    "    - In both plots, the y variable will be the same \n",
    "- Layout"
   ]
  },
  {
   "cell_type": "code",
   "execution_count": 9,
   "metadata": {},
   "outputs": [
    {
     "data": {
      "text/html": [
       "<iframe id=\"igraph\" scrolling=\"no\" style=\"border:none;\" seamless=\"seamless\" src=\"https://plot.ly/~bredlplotly/50.embed\" height=\"525px\" width=\"100%\"></iframe>"
      ],
      "text/plain": [
       "<plotly.tools.PlotlyDisplay object>"
      ]
     },
     "execution_count": 9,
     "metadata": {},
     "output_type": "execute_result"
    }
   ],
   "source": [
    "# Creating the data object for our scatter plot\n",
    "fig ={'data' : [{'x':cars_select.mpg, 'y':cars_select.disp, 'mode':'markers', 'name':'MPG'},\n",
    "               {'x':cars_select.hp, 'y':cars_select.disp, 'mode':'markers', 'name':'HP'}],\n",
    "                'layout':{'xaxis':{'title' : ''}, 'yaxis':{'title': 'Standardised Displacement'}}}\n",
    "\n",
    "# Plotting our scatter plot\n",
    "py.iplot(fig, filename = 'Grouped-Scatter-Plot-02')"
   ]
  },
  {
   "cell_type": "markdown",
   "metadata": {},
   "source": [
    "The scatter plot is showing us that as HP increases the MPG decreases"
   ]
  },
  {
   "cell_type": "code",
   "execution_count": null,
   "metadata": {},
   "outputs": [],
   "source": []
  }
 ],
 "metadata": {
  "kernelspec": {
   "display_name": "Python 3",
   "language": "python",
   "name": "python3"
  },
  "language_info": {
   "codemirror_mode": {
    "name": "ipython",
    "version": 3
   },
   "file_extension": ".py",
   "mimetype": "text/x-python",
   "name": "python",
   "nbconvert_exporter": "python",
   "pygments_lexer": "ipython3",
   "version": "3.6.5"
  }
 },
 "nbformat": 4,
 "nbformat_minor": 2
}
