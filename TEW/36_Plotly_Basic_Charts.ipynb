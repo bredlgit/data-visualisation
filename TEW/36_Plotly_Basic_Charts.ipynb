{
 "cells": [
  {
   "cell_type": "markdown",
   "metadata": {},
   "source": [
    "![TEW, Plotly, Pandas & Numpy](assets/tewplotlynumpypandas.png)"
   ]
  },
  {
   "cell_type": "markdown",
   "metadata": {},
   "source": [
    "## 36 Plotly Web Based Visualization - Basic Charts Using Python Pandas\n",
    "In this Python for Data Science Tutorial, we will learn about Web Based Data Visualization using Plotly in Python. \n",
    "\n",
    "Plotly is a dat visualisation library that you can use to construct web friendly d3 dart js standard graphs using Python, Numpy, Pandas in the Plotly library. You can view the data visualisation maps that I have made, for this course, [here](https://plot.ly/organize/home/). \n",
    "\n",
    "The core features of Plotly are...\n",
    "- Automatic labelling\n",
    "    - A pop up labelling system when you hover over certain areas of the map\n",
    "    - It is interactive - but I do not really know how\n",
    "    - You can download the plot as a figure\n",
    "    - You can zoom in/out of the plot\n",
    "    - You can view the data that was used to create the plot\n",
    "    - You can also see the code that was used to build the chart\n",
    "    - It's collaborative - Othere viewers can make amends and comments \n",
    "    - You can share these charts to your social networks or embed them on your website\n",
    "    - It is free for up to 50 API calls per day\n",
    "- Works with Python, Numpy, Pandas, matplotlib and Jupyter Notebooks\n",
    "- Cufflinks - The library that is used to bind plotly and pandas objects within the Jupyter Notebook\n",
    "\n",
    "### Plotly Attributes\n",
    "To generate Plotly plots from Numpy objects, yoiu use the following plotly attributes...\n",
    "- **Traces** - These are objects that describe a single variable of data in a graph eg a scatterplot or heatmap\n",
    "- **Layouts** - You use these attributes to set layout elements for your plot eg the title, X-Axis, Y-Axis or annotations\n",
    "\n",
    "In this tutorial, we are going to learn how to build line, bar and pie charts in plotly.\n",
    "\n",
    "## Setting up our Jupyter Notebook for Plotly..."
   ]
  },
  {
   "cell_type": "code",
   "execution_count": 2,
   "metadata": {},
   "outputs": [
    {
     "name": "stdout",
     "output_type": "stream",
     "text": [
      "Requirement already satisfied: Plotly in c:\\users\\roly\\anaconda3\\lib\\site-packages (2.7.0)\n",
      "Requirement already satisfied: decorator>=4.0.6 in c:\\users\\roly\\anaconda3\\lib\\site-packages (from Plotly) (4.3.0)\n",
      "Requirement already satisfied: requests in c:\\users\\roly\\anaconda3\\lib\\site-packages (from Plotly) (2.18.4)\n",
      "Requirement already satisfied: pytz in c:\\users\\roly\\anaconda3\\lib\\site-packages (from Plotly) (2018.4)\n",
      "Requirement already satisfied: nbformat>=4.2 in c:\\users\\roly\\anaconda3\\lib\\site-packages (from Plotly) (4.4.0)\n",
      "Requirement already satisfied: six in c:\\users\\roly\\anaconda3\\lib\\site-packages (from Plotly) (1.11.0)\n",
      "Requirement already satisfied: chardet<3.1.0,>=3.0.2 in c:\\users\\roly\\anaconda3\\lib\\site-packages (from requests->Plotly) (3.0.4)\n",
      "Requirement already satisfied: idna<2.7,>=2.5 in c:\\users\\roly\\anaconda3\\lib\\site-packages (from requests->Plotly) (2.6)\n",
      "Requirement already satisfied: urllib3<1.23,>=1.21.1 in c:\\users\\roly\\anaconda3\\lib\\site-packages (from requests->Plotly) (1.22)\n",
      "Requirement already satisfied: certifi>=2017.4.17 in c:\\users\\roly\\anaconda3\\lib\\site-packages (from requests->Plotly) (2018.4.16)\n",
      "Requirement already satisfied: ipython_genutils in c:\\users\\roly\\anaconda3\\lib\\site-packages (from nbformat>=4.2->Plotly) (0.2.0)\n",
      "Requirement already satisfied: traitlets>=4.1 in c:\\users\\roly\\anaconda3\\lib\\site-packages (from nbformat>=4.2->Plotly) (4.3.2)\n",
      "Requirement already satisfied: jsonschema!=2.5.0,>=2.4 in c:\\users\\roly\\anaconda3\\lib\\site-packages (from nbformat>=4.2->Plotly) (2.6.0)\n",
      "Requirement already satisfied: jupyter_core in c:\\users\\roly\\anaconda3\\lib\\site-packages (from nbformat>=4.2->Plotly) (4.4.0)\n"
     ]
    }
   ],
   "source": [
    "# Installing Plotly...I think it is already installed as part of Anaconda\n",
    "! pip install Plotly"
   ]
  },
  {
   "cell_type": "code",
   "execution_count": 3,
   "metadata": {},
   "outputs": [
    {
     "name": "stdout",
     "output_type": "stream",
     "text": [
      "Collecting cufflinks\n",
      "Requirement already satisfied: plotly>=2.0.0 in c:\\users\\roly\\anaconda3\\lib\\site-packages (from cufflinks) (2.7.0)\n",
      "Requirement already satisfied: colorlover>=0.2 in c:\\users\\roly\\anaconda3\\lib\\site-packages (from cufflinks) (0.2.1)\n",
      "Requirement already satisfied: pandas in c:\\users\\roly\\anaconda3\\lib\\site-packages (from cufflinks) (0.23.0)\n",
      "Requirement already satisfied: requests in c:\\users\\roly\\anaconda3\\lib\\site-packages (from plotly>=2.0.0->cufflinks) (2.18.4)\n",
      "Requirement already satisfied: decorator>=4.0.6 in c:\\users\\roly\\anaconda3\\lib\\site-packages (from plotly>=2.0.0->cufflinks) (4.3.0)\n",
      "Requirement already satisfied: nbformat>=4.2 in c:\\users\\roly\\anaconda3\\lib\\site-packages (from plotly>=2.0.0->cufflinks) (4.4.0)\n",
      "Requirement already satisfied: pytz in c:\\users\\roly\\anaconda3\\lib\\site-packages (from plotly>=2.0.0->cufflinks) (2018.4)\n",
      "Requirement already satisfied: six in c:\\users\\roly\\anaconda3\\lib\\site-packages (from plotly>=2.0.0->cufflinks) (1.11.0)\n",
      "Requirement already satisfied: python-dateutil>=2.5.0 in c:\\users\\roly\\anaconda3\\lib\\site-packages (from pandas->cufflinks) (2.7.3)\n",
      "Requirement already satisfied: numpy>=1.9.0 in c:\\users\\roly\\anaconda3\\lib\\site-packages (from pandas->cufflinks) (1.14.3)\n",
      "Requirement already satisfied: chardet<3.1.0,>=3.0.2 in c:\\users\\roly\\anaconda3\\lib\\site-packages (from requests->plotly>=2.0.0->cufflinks) (3.0.4)\n",
      "Requirement already satisfied: idna<2.7,>=2.5 in c:\\users\\roly\\anaconda3\\lib\\site-packages (from requests->plotly>=2.0.0->cufflinks) (2.6)\n",
      "Requirement already satisfied: urllib3<1.23,>=1.21.1 in c:\\users\\roly\\anaconda3\\lib\\site-packages (from requests->plotly>=2.0.0->cufflinks) (1.22)\n",
      "Requirement already satisfied: certifi>=2017.4.17 in c:\\users\\roly\\anaconda3\\lib\\site-packages (from requests->plotly>=2.0.0->cufflinks) (2018.4.16)\n",
      "Requirement already satisfied: ipython_genutils in c:\\users\\roly\\anaconda3\\lib\\site-packages (from nbformat>=4.2->plotly>=2.0.0->cufflinks) (0.2.0)\n",
      "Requirement already satisfied: traitlets>=4.1 in c:\\users\\roly\\anaconda3\\lib\\site-packages (from nbformat>=4.2->plotly>=2.0.0->cufflinks) (4.3.2)\n",
      "Requirement already satisfied: jsonschema!=2.5.0,>=2.4 in c:\\users\\roly\\anaconda3\\lib\\site-packages (from nbformat>=4.2->plotly>=2.0.0->cufflinks) (2.6.0)\n",
      "Requirement already satisfied: jupyter_core in c:\\users\\roly\\anaconda3\\lib\\site-packages (from nbformat>=4.2->plotly>=2.0.0->cufflinks) (4.4.0)\n",
      "Installing collected packages: cufflinks\n",
      "Successfully installed cufflinks-0.12.1\n"
     ]
    }
   ],
   "source": [
    "# We also have to install cufflinks\n",
    "! pip install cufflinks"
   ]
  },
  {
   "cell_type": "markdown",
   "metadata": {},
   "source": [
    "FYI - These libraries were actually downloaded when we installed Anaconda but, as with cufflinks, not installed. So we are just completing that action to be able to use cufflinks"
   ]
  },
  {
   "cell_type": "code",
   "execution_count": 1,
   "metadata": {},
   "outputs": [],
   "source": [
    "# Usual imports into Pandas now...\n",
    "import numpy as np\n",
    "import pandas as pd\n",
    "\n",
    "import cufflinks as cf\n",
    "\n",
    "import plotly.plotly as py\n",
    "import plotly.tools as tls\n",
    "import plotly.graph_objs as go"
   ]
  },
  {
   "cell_type": "code",
   "execution_count": 2,
   "metadata": {},
   "outputs": [],
   "source": [
    "# To be able to use plotly, we need to pass in our username and password from our Plotly acct...\n",
    "tls.set_credentials_file(username = 'bredlplotly', api_key = '4jBdfwVO9M6TzpBaTgSb')"
   ]
  },
  {
   "cell_type": "markdown",
   "metadata": {},
   "source": [
    "### Creating line charts\n",
    "**A very basic line chart**"
   ]
  },
  {
   "cell_type": "code",
   "execution_count": 3,
   "metadata": {},
   "outputs": [
    {
     "data": {
      "text/html": [
       "<iframe id=\"igraph\" scrolling=\"no\" style=\"border:none;\" seamless=\"seamless\" src=\"https://plot.ly/~bredlplotly/28.embed\" height=\"525px\" width=\"100%\"></iframe>"
      ],
      "text/plain": [
       "<plotly.tools.PlotlyDisplay object>"
      ]
     },
     "execution_count": 3,
     "metadata": {},
     "output_type": "execute_result"
    }
   ],
   "source": [
    "# First we create some objects to plot...\n",
    "\n",
    "# This is a series of numbers from zero to thirty-five\n",
    "a = np.linspace(start = 0, stop = 36, num = 36)\n",
    "\n",
    "# We are going to use the seed function again so that my random numbers below are the same as the lecturer's\n",
    "np.random.seed(25)\n",
    "\n",
    "# A series of 36 randomly generated uniformly distributed numbers between 0 - 1\n",
    "b = np.random.uniform(low = 0.0, high = 1.0, size = 36)\n",
    "\n",
    "# Now we are going to use a trace object to describe what kind of graph we want to plot\n",
    "# To plot a line graph we actually have to use the Scatter function(?)\n",
    "trace = go.Scatter(x = a, y = b)\n",
    "\n",
    "# Turn our trace variable into a list object\n",
    "data = [trace]\n",
    "\n",
    "# To pllot the chart...\n",
    "py.iplot(data, filename = 'Basic-Line-chart-02')\n",
    "# filename - this is the name that the chart will be saves as on the plotly webpage...no spaces allowed!!!"
   ]
  },
  {
   "cell_type": "markdown",
   "metadata": {},
   "source": [
    "**A line chart with two lines plotted**"
   ]
  },
  {
   "cell_type": "code",
   "execution_count": 4,
   "metadata": {},
   "outputs": [
    {
     "name": "stdout",
     "output_type": "stream",
     "text": [
      "{'title': 'Double Line Chart 02', 'xaxis': {'title': 'X Axis'}, 'yaxis': {'title': 'Y Axis'}}\n"
     ]
    }
   ],
   "source": [
    "# First object is a list of numbers 1-9\n",
    "x = [1,2,3,4,5,6,7,8,9]\n",
    "y = [1,2,3,4,0,4,3,2,1]\n",
    "z = [10,9,8,7,6,5,4,3,2,1]\n",
    "\n",
    "# Since we are creating a chart with two lines we are going to need two trace objects...\n",
    "trace0 = go.Scatter(x = x, y = y, name = 'List Object 03', line = dict(width = 5))\n",
    "trace1 = go.Scatter(x = x, y = z, name = 'List Object 04', line = dict(width = 10))\n",
    "\n",
    "# Now we make an object called data that represents our trace variables as a single list object...\n",
    "data = [trace0, trace1]\n",
    "\n",
    "# We also need to specify the layout parameters for our chart\n",
    "layout = dict(title = 'Double Line Chart 02', xaxis = dict(title = 'X Axis'), yaxis = dict(title = 'Y Axis'))\n",
    "\n",
    "# To find out what the details of the layout looks like...\n",
    "print(layout)"
   ]
  },
  {
   "cell_type": "code",
   "execution_count": 5,
   "metadata": {},
   "outputs": [
    {
     "name": "stdout",
     "output_type": "stream",
     "text": [
      "{'data': [{'type': 'scatter', 'x': [1, 2, 3, 4, 5, 6, 7, 8, 9], 'y': [1, 2, 3, 4, 0, 4, 3, 2, 1], 'name': 'List Object 03', 'line': {'width': 5}}, {'type': 'scatter', 'x': [1, 2, 3, 4, 5, 6, 7, 8, 9], 'y': [10, 9, 8, 7, 6, 5, 4, 3, 2, 1], 'name': 'List Object 04', 'line': {'width': 10}}], 'layout': {'title': 'Double Line Chart 02', 'xaxis': {'title': 'X Axis'}, 'yaxis': {'title': 'Y Axis'}}}\n"
     ]
    }
   ],
   "source": [
    "# To generate a plot from this, we need to co0mbine the data and the layout objects into one dictionary...\n",
    "fig = dict(data = data, layout = layout)\n",
    "print(fig)"
   ]
  },
  {
   "cell_type": "code",
   "execution_count": 6,
   "metadata": {},
   "outputs": [
    {
     "data": {
      "text/html": [
       "<iframe id=\"igraph\" scrolling=\"no\" style=\"border:none;\" seamless=\"seamless\" src=\"https://plot.ly/~bredlplotly/30.embed\" height=\"525px\" width=\"100%\"></iframe>"
      ],
      "text/plain": [
       "<plotly.tools.PlotlyDisplay object>"
      ]
     },
     "execution_count": 6,
     "metadata": {},
     "output_type": "execute_result"
    }
   ],
   "source": [
    "# Now we plot it...\n",
    "py.iplot(fig, filename = 'Styled-Line-Chart-02')"
   ]
  },
  {
   "cell_type": "markdown",
   "metadata": {},
   "source": [
    "### Creating a line chart from a Pandas DataFrame"
   ]
  },
  {
   "cell_type": "code",
   "execution_count": 7,
   "metadata": {},
   "outputs": [
    {
     "data": {
      "text/html": [
       "<iframe id=\"igraph\" scrolling=\"no\" style=\"border:none;\" seamless=\"seamless\" src=\"https://plot.ly/~bredlplotly/32.embed\" height=\"525px\" width=\"100%\"></iframe>"
      ],
      "text/plain": [
       "<plotly.tools.PlotlyDisplay object>"
      ]
     },
     "execution_count": 7,
     "metadata": {},
     "output_type": "execute_result"
    }
   ],
   "source": [
    "# First we will create our df using the mtcars dataset...\n",
    "address = 'datasets/mtcars.csv'\n",
    "cars = pd.read_csv(address, sep = '\\t')\n",
    "\n",
    "df = cars[['cyl', 'wt', 'mpg']]\n",
    "\n",
    "# Now we need to set the layout parameters for this chart...\n",
    "layout = dict(title = 'Chart from Pandas dataFramne 02', xaxis = dict(title = 'X Axis'), yaxis = dict(title = 'Y Axis'))\n",
    "\n",
    "df.iplot(filename = 'Cufflinks-Simple-Line-chart-02', layout = layout)"
   ]
  },
  {
   "cell_type": "markdown",
   "metadata": {},
   "source": [
    "## Creating bar charts"
   ]
  },
  {
   "cell_type": "code",
   "execution_count": 8,
   "metadata": {},
   "outputs": [
    {
     "name": "stdout",
     "output_type": "stream",
     "text": [
      "[{'type': 'bar', 'x': [1, 2, 3, 4, 5, 6, 7, 8, 9, 10], 'y': [1, 2, 3, 4, 0.5, 4, 3, 2, 1]}]\n"
     ]
    }
   ],
   "source": [
    "# First we will make an object called data that represents our trace variable as a list object...\n",
    "# Trace is where we specify what type of chart we want\n",
    "data = [go.Bar(x = [1,2,3,4,5,6,7,8,9,10], y = [1,2,3,4,0.5,4,3,2,1])]\n",
    "print(data)"
   ]
  },
  {
   "cell_type": "code",
   "execution_count": 9,
   "metadata": {},
   "outputs": [
    {
     "data": {
      "text/html": [
       "<iframe id=\"igraph\" scrolling=\"no\" style=\"border:none;\" seamless=\"seamless\" src=\"https://plot.ly/~bredlplotly/34.embed\" height=\"525px\" width=\"100%\"></iframe>"
      ],
      "text/plain": [
       "<plotly.tools.PlotlyDisplay object>"
      ]
     },
     "execution_count": 9,
     "metadata": {},
     "output_type": "execute_result"
    }
   ],
   "source": [
    "layout = dict(title = 'Simple Bar Chart 02', xaxis = dict(title = 'X Axis'), yaxis = dict(title = 'Y Axis'))\n",
    "\n",
    "# To plopt this chart...\n",
    "py.iplot(data, filename = 'Basic-Bar-Chart-02', layout = layout)"
   ]
  },
  {
   "cell_type": "markdown",
   "metadata": {},
   "source": [
    "Our bar chart is interactive(?), web friendly and shareable"
   ]
  },
  {
   "cell_type": "markdown",
   "metadata": {},
   "source": [
    "### Customising colours\n",
    "Remember that almost everything in Plotly needs to be in dictionaries."
   ]
  },
  {
   "cell_type": "code",
   "execution_count": 10,
   "metadata": {},
   "outputs": [
    {
     "name": "stdout",
     "output_type": "stream",
     "text": [
      "{'color': ['rgba(169,169,169,1)', 'rgba(255,160,122,1)', 'rgba(176,224,230,1)', 'rgba(255,228,196,1)', 'rgba(189,183,107,1)', 'rgba(188,143,143,1)', 'rgba(221,160,221,1)']}\n"
     ]
    }
   ],
   "source": [
    "colour_theme = dict(color = ['rgba(169,169,169,1)', 'rgba(255,160,122,1)','rgba(176,224,230,1)','rgba(255,228,196,1)','rgba(189,183,107,1)',\n",
    "                             'rgba(188,143,143,1)','rgba(221,160,221,1)'])\n",
    "\n",
    "# To show what the dictionary looks like\n",
    "print(colour_theme)"
   ]
  },
  {
   "cell_type": "code",
   "execution_count": 12,
   "metadata": {},
   "outputs": [
    {
     "data": {
      "text/html": [
       "<iframe id=\"igraph\" scrolling=\"no\" style=\"border:none;\" seamless=\"seamless\" src=\"https://plot.ly/~bredlplotly/36.embed\" height=\"525px\" width=\"100%\"></iframe>"
      ],
      "text/plain": [
       "<plotly.tools.PlotlyDisplay object>"
      ]
     },
     "execution_count": 12,
     "metadata": {},
     "output_type": "execute_result"
    }
   ],
   "source": [
    "# Creating the race object\n",
    "trace0 = go.Bar(x = [1,2,3,4,5,6,7], y = [1,2,3,4,0.5,3,1], marker = colour_theme)\n",
    "\n",
    "# Moving ouyr trace object into a list\n",
    "data = [trace0]\n",
    "\n",
    "# Creating our layour object\n",
    "layout = go.Layout(title = \"Custom Colours\")\n",
    "fig = go.Figure(data = data, layout = layout)\n",
    "\n",
    "# To plot it out\n",
    "py.iplot(fig, filename = \"Colour-Bar-Chart-02\")"
   ]
  },
  {
   "cell_type": "markdown",
   "metadata": {},
   "source": [
    "## Creating a Pie Chart"
   ]
  },
  {
   "cell_type": "code",
   "execution_count": 17,
   "metadata": {},
   "outputs": [
    {
     "data": {
      "text/html": [
       "<iframe id=\"igraph\" scrolling=\"no\" style=\"border:none;\" seamless=\"seamless\" src=\"https://plot.ly/~bredlplotly/40.embed\" height=\"525px\" width=\"100%\"></iframe>"
      ],
      "text/plain": [
       "<plotly.tools.PlotlyDisplay object>"
      ]
     },
     "execution_count": 17,
     "metadata": {},
     "output_type": "execute_result"
    }
   ],
   "source": [
    "fig = {'data' : [{'labels': ['bicycle', 'moptorbike', 'car', 'van', 'stroller'],\n",
    "                 'values': [1,2,3,4, 0.5], 'type' : 'pie'}],\n",
    "                 'layout' : {'title' : 'Simple pie Chart 02'}  \n",
    "      }\n",
    "\n",
    "# To plot this...\n",
    "py.iplot(fig)"
   ]
  },
  {
   "cell_type": "code",
   "execution_count": null,
   "metadata": {},
   "outputs": [],
   "source": []
  }
 ],
 "metadata": {
  "kernelspec": {
   "display_name": "Python 3",
   "language": "python",
   "name": "python3"
  },
  "language_info": {
   "codemirror_mode": {
    "name": "ipython",
    "version": 3
   },
   "file_extension": ".py",
   "mimetype": "text/x-python",
   "name": "python",
   "nbconvert_exporter": "python",
   "pygments_lexer": "ipython3",
   "version": "3.6.5"
  }
 },
 "nbformat": 4,
 "nbformat_minor": 2
}
